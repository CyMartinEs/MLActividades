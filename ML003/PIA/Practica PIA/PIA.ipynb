{
 "cells": [
  {
   "cell_type": "code",
   "execution_count": null,
   "id": "050d866d-c2b2-4d65-b334-79b86aa55672",
   "metadata": {},
   "outputs": [],
   "source": [
    "Preprocesar los datos.\n",
    "Definir un pipeline para el modelo de clasificación.\n",
    "Realizar la búsqueda de hiperparámetros utilizando validación cruzada.\n",
    "Evaluar el modelo en el conjunto de prueba."
   ]
  },
  {
   "cell_type": "code",
   "execution_count": null,
   "id": "066de9b4-95eb-4118-ae8e-b2d72668b885",
   "metadata": {},
   "outputs": [],
   "source": [
    "id\t                identificador\n",
    "title_word_count\tConteo de palabra en el Titulo\n",
    "document_entropy\taleatoriedad \n",
    "freshness\t        Reciente\n",
    "easiness\t        Facilidad\n",
    "fraction_stopword_presence\tPalabras Vacias (Fraccion)\n",
    "normalization_rate\ttasa normalizacion\n",
    "speaker_speed\t    velocidad altavoz\n",
    "silent_period_rate\ttasa periodo silencioso\n",
    "engagement\t        Contrato"
   ]
  },
  {
   "cell_type": "code",
   "execution_count": 1,
   "id": "04326e41-bdf7-45dd-853a-ec528dde33e4",
   "metadata": {},
   "outputs": [],
   "source": [
    "import pandas as pd\n",
    "from sklearn.model_selection import train_test_split, GridSearchCV\n",
    "from sklearn.pipeline import Pipeline\n",
    "from sklearn.preprocessing import StandardScaler\n",
    "from sklearn.ensemble import RandomForestClassifier\n",
    "from sklearn.metrics import roc_auc_score\n",
    "from sklearn.compose import ColumnTransformer"
   ]
  },
  {
   "cell_type": "code",
   "execution_count": 2,
   "id": "694ce049-003f-4f71-95d6-8c7d2cca734f",
   "metadata": {},
   "outputs": [],
   "source": [
    "# Leer los datos de archivo csv, typed_uanl.csv con el URL\n",
    "url =  \"C:/Users/PC/Documents/GitHub/GitFlow-en-Github/ML003/PIA/Practica PIA/prueba.csv\"\n",
    "df_prueba = pd.read_csv(url)"
   ]
  },
  {
   "cell_type": "code",
   "execution_count": 3,
   "id": "1a3aae1c-3b73-47a1-a4b8-3e60546ff198",
   "metadata": {},
   "outputs": [],
   "source": [
    "# Leer los datos de archivo csv, typed_uanl.csv con el URL\n",
    "url =  \"C:/Users/PC/Documents/GitHub/GitFlow-en-Github/ML003/PIA/Practica PIA/entrenamiento.csv\"\n",
    "df_entrenamiento = pd.read_csv(url)"
   ]
  },
  {
   "cell_type": "code",
   "execution_count": 28,
   "id": "e513735a-f011-426f-bb4e-81831b7e60ee",
   "metadata": {},
   "outputs": [],
   "source": [
    "# Separar características y objetivo\n",
    "X_entrenamiento = df_entrenamiento.drop(columns=['id', 'engagement'])\n",
    "y_entrenamiento = df_entrenamiento['freshness'].astype(int)  # Convertir objetivo a entero\n",
    "\n",
    "X_prueba = df_prueba.drop(columns=['id'])\n",
    "y_prueba = df_prueba['freshness'].astype(int)  # Convertir objetivo a entero\n",
    "\n",
    "\n",
    "# Dividir los datos de entrenamiento en entrenamiento y validación\n",
    "#X_train, X_val, y_train, y_val = train_test_split(X, y, test_size=0.2, random_state=42)\n"
   ]
  },
  {
   "cell_type": "code",
   "execution_count": 29,
   "id": "89a98000-030b-4ded-ae81-bb7261e8e504",
   "metadata": {},
   "outputs": [
    {
     "name": "stdout",
     "output_type": "stream",
     "text": [
      "Tamaño de X_entrenamiento: (9239, 8), y_entrenamiento: (9239,)\n",
      "Tamaño de X_prueba: (2309, 8), y_prueba: (2309,)\n"
     ]
    }
   ],
   "source": [
    "# Verificar tamaños de los datos\n",
    "print(f\"Tamaño de X_entrenamiento: {X_entrenamiento.shape}, y_entrenamiento: {y_entrenamiento.shape}\")\n",
    "print(f\"Tamaño de X_prueba: {X_prueba.shape}, y_prueba: {y_prueba.shape}\")"
   ]
  },
  {
   "cell_type": "code",
   "execution_count": 30,
   "id": "9cf75014-83e8-4c4f-8aef-eb9bb1ad5471",
   "metadata": {},
   "outputs": [],
   "source": [
    "# Definir las columnas numéricas\n",
    "Funciones_numericas= X_entrenamiento.columns\n",
    "\n",
    "# Preprocesamiento: escalado de características numéricas\n",
    "preprocessor = ColumnTransformer(\n",
    "    transformers=[\n",
    "        ('num', StandardScaler(), Funciones_numericas)\n",
    "    ])\n"
   ]
  },
  {
   "cell_type": "code",
   "execution_count": 31,
   "id": "4636cef1-8348-49cf-a2a9-6f4cf3884fbe",
   "metadata": {},
   "outputs": [],
   "source": [
    "# Crear pipeline con un clasificador de bosque aleatorio\n",
    "pipeline = Pipeline(steps=[\n",
    "    ('preprocessor', preprocessor),\n",
    "    ('classifier', RandomForestClassifier(random_state=42))\n",
    "])"
   ]
  },
  {
   "cell_type": "code",
   "execution_count": 32,
   "id": "f5b73238-2475-4ef1-a0e7-4a1c5b0c0df5",
   "metadata": {},
   "outputs": [],
   "source": [
    "# Definir el grid de hiperparámetros\n",
    "parametros = {\n",
    "    'classifier__n_estimators': [100, 200, 300],\n",
    "    'classifier__max_depth': [None, 10, 20, 30],\n",
    "    'classifier__min_samples_split': [2, 5, 10]\n",
    "}"
   ]
  },
  {
   "cell_type": "code",
   "execution_count": null,
   "id": "6cb028c6-d822-41a5-8e2b-3065ed333b3a",
   "metadata": {},
   "outputs": [],
   "source": [
    "# Configurar StratifiedKFold\n",
    "cv = StratifiedKFold(n_splits=5)\n",
    "\n",
    "# Configurar GridSearchCV con validación cruzada y ROC AUC como criterio de evaluación\n",
    "Validacion_Cruzada = GridSearchCV(pipeline, parametros, cv=cv, scoring='roc_auc', n_jobs=-1)\n",
    "\n",
    "# Entrenar el modelo\n",
    "Validacion_Cruzada.fit(X_entrenamiento, y_entrenamiento)\n",
    "\n",
    "# Evaluar el mejor modelo en el conjunto de validación\n",
    "Mejor_Modelo = Validacion_Cruzada.best_estimator_\n",
    "\n",
    "# Resultados de la búsqueda de hiperparámetros\n",
    "Mejor_Parametro = Validacion_Cruzada.best_params_"
   ]
  },
  {
   "cell_type": "code",
   "execution_count": null,
   "id": "3c613767-42b1-4ed6-a350-b9563b024499",
   "metadata": {},
   "outputs": [],
   "source": [
    "# Predecir probabilidades en el conjunto de entrenamiento para calcular ROC AUC\n",
    "prediccion_entrenamiento = Mejor_Modelo.predict_proba(X_entrenamiento)[:, 1]\n",
    "roc_auc_prediccion_entrenamiento = roc_auc_score(y_entrenamiento, prediccion_entrenamiento)"
   ]
  },
  {
   "cell_type": "code",
   "execution_count": null,
   "id": "1a1efd1a-074f-402c-b11e-3cbd5b9b0c4b",
   "metadata": {},
   "outputs": [],
   "source": [
    "# Predecir probabilidades en el conjunto de entrenamiento para calcular ROC AUC\n",
    "prediccion_prueba = Mejor_Modelo.predict_proba(X_prueba)[:, 1]\n",
    "roc_auc_prediccion_prueba = roc_auc_score(y_prueba, prediccion_prueba)"
   ]
  },
  {
   "cell_type": "code",
   "execution_count": null,
   "id": "997426c9-7b5d-4216-b321-b4ebc6d87274",
   "metadata": {},
   "outputs": [],
   "source": [
    "print(\"Mejor entrenamiento ROC AUC:\", roc_auc_prediccion_entrenamiento)\n",
    "print(\"Mejor entrenamiento ROC AUC:\", roc_auc_prediccion_prueba)\n",
    "print(\"Mejores Parametros:\", Mejor_Parametros)"
   ]
  },
  {
   "cell_type": "code",
   "execution_count": null,
   "id": "69ee803d-176d-4bfb-8961-605bf9ba36a1",
   "metadata": {},
   "outputs": [],
   "source": [
    "print(y_prueba)"
   ]
  },
  {
   "cell_type": "code",
   "execution_count": null,
   "id": "da142852-a37c-4162-b320-b63d6569aa13",
   "metadata": {},
   "outputs": [],
   "source": [
    "print(prediccion_prueba)"
   ]
  },
  {
   "cell_type": "code",
   "execution_count": null,
   "id": "df63bb59-5b2f-4b39-9185-bc0268f0838b",
   "metadata": {},
   "outputs": [],
   "source": [
    "print(y_entrenamiento)"
   ]
  },
  {
   "cell_type": "code",
   "execution_count": null,
   "id": "659d9bdd-7116-45b4-88fa-30f651f51685",
   "metadata": {},
   "outputs": [],
   "source": [
    "print(prediccion_entrenamiento)"
   ]
  },
  {
   "cell_type": "code",
   "execution_count": null,
   "id": "3a5847cb-62dc-4bc9-9c83-66fc9dce1da7",
   "metadata": {},
   "outputs": [],
   "source": []
  }
 ],
 "metadata": {
  "kernelspec": {
   "display_name": "Python 3 (ipykernel)",
   "language": "python",
   "name": "python3"
  },
  "language_info": {
   "codemirror_mode": {
    "name": "ipython",
    "version": 3
   },
   "file_extension": ".py",
   "mimetype": "text/x-python",
   "name": "python",
   "nbconvert_exporter": "python",
   "pygments_lexer": "ipython3",
   "version": "3.11.7"
  }
 },
 "nbformat": 4,
 "nbformat_minor": 5
}
