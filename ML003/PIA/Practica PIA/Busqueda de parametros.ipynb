{
 "cells": [
  {
   "cell_type": "code",
   "execution_count": 2,
   "id": "9a6089b9-8a50-490b-8abd-3d0f8fe74fd0",
   "metadata": {},
   "outputs": [
    {
     "name": "stdout",
     "output_type": "stream",
     "text": [
      "Mejores Parámetros KNN: {'classifier__metric': 'manhattan', 'classifier__n_neighbors': 30, 'classifier__weights': 'distance'}\n",
      "Validation ROC AUC KNN: 0.8709092187139121\n",
      "Validation Accuracy KNN: 0.9242424242424242\n"
     ]
    }
   ],
   "source": [
    "import pandas as pd\n",
    "from sklearn.model_selection import train_test_split, GridSearchCV, StratifiedKFold\n",
    "from sklearn.preprocessing import StandardScaler\n",
    "from sklearn.pipeline import Pipeline\n",
    "from sklearn.neighbors import KNeighborsClassifier\n",
    "from sklearn.metrics import roc_auc_score, accuracy_score\n",
    "\n",
    "# Leer los datos de archivo csvL\n",
    "url =  \"C:/Users/PC/Documents/GitHub/GitFlow-en-Github/ML003/PIA/Practica PIA/entrenamiento.csv\"\n",
    "df_entrenamiento = pd.read_csv(url)\n",
    "\n",
    "# Leer los datos de archivo csv\n",
    "url =  \"C:/Users/PC/Documents/GitHub/GitFlow-en-Github/ML003/PIA/Practica PIA/prueba.csv\"\n",
    "df_prueba = pd.read_csv(url)\n",
    "\n",
    "# Separar características y objetivo en el conjunto de entrenamiento\n",
    "#X = df_entrenamiento.drop(columns=['id', 'engagement'])\n",
    "\n",
    "X = df_entrenamiento.drop(columns=['id', 'title_word_count','engagement','speaker_speed','silent_period_rate','easiness'])\n",
    "y = df_entrenamiento['engagement'].astype(int)\n",
    "\n",
    "# Dividir los datos en entrenamiento y validación\n",
    "X_train, X_val, y_train, y_val = train_test_split(X, y, test_size=0.2, random_state=42, stratify=y)\n",
    "\n",
    "# Definir StratifiedKFold\n",
    "cv = StratifiedKFold(n_splits=5)\n",
    "\n",
    "# Definir el rango de parámetros para KNeighborsClassifier\n",
    "param_grid_knn = {\n",
    "    'classifier__n_neighbors': list(range(1, 31)),  # Explorar valores de 1 a 30 para n_neighbors\n",
    "    'classifier__weights': ['uniform', 'distance'],\n",
    "    'classifier__metric': ['euclidean', 'manhattan', 'minkowski', 'chebyshev']\n",
    "}\n",
    "\n",
    "# Crear pipeline con StandardScaler y KNeighborsClassifier\n",
    "pipeline_knn = Pipeline(steps=[\n",
    "    ('scaler', StandardScaler()),\n",
    "    ('classifier', KNeighborsClassifier())\n",
    "])\n",
    "\n",
    "# Realizar la búsqueda de hiperparámetros con GridSearchCV\n",
    "grid_search_knn = GridSearchCV(pipeline_knn, param_grid_knn, cv=cv, scoring='roc_auc', n_jobs=-1)\n",
    "grid_search_knn.fit(X_train, y_train)\n",
    "\n",
    "# Obtener el mejor modelo y los mejores parámetros\n",
    "mejor_modelo_knn = grid_search_knn.best_estimator_\n",
    "mejores_params_knn = grid_search_knn.best_params_\n",
    "\n",
    "# Evaluar el mejor modelo en el conjunto de validación\n",
    "val_predictions_knn = mejor_modelo_knn.predict_proba(X_val)[:, 1]\n",
    "val_roc_auc_knn = roc_auc_score(y_val, val_predictions_knn)\n",
    "val_accuracy_knn = accuracy_score(y_val, mejor_modelo_knn.predict(X_val))\n",
    "\n",
    "# Mostrar resultados\n",
    "print(f\"Mejores Parámetros KNN: {mejores_params_knn}\")\n",
    "print(f\"Validation ROC AUC KNN: {val_roc_auc_knn}\")\n",
    "print(f\"Validation Accuracy KNN: {val_accuracy_knn}\")\n",
    "\n"
   ]
  },
  {
   "cell_type": "code",
   "execution_count": null,
   "id": "29a76dc6-4412-4923-8bc8-fcd76e81b389",
   "metadata": {},
   "outputs": [],
   "source": []
  }
 ],
 "metadata": {
  "kernelspec": {
   "display_name": "Python 3 (ipykernel)",
   "language": "python",
   "name": "python3"
  },
  "language_info": {
   "codemirror_mode": {
    "name": "ipython",
    "version": 3
   },
   "file_extension": ".py",
   "mimetype": "text/x-python",
   "name": "python",
   "nbconvert_exporter": "python",
   "pygments_lexer": "ipython3",
   "version": "3.11.7"
  }
 },
 "nbformat": 4,
 "nbformat_minor": 5
}
