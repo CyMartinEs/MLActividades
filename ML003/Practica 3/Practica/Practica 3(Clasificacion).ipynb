{
 "cells": [
  {
   "cell_type": "markdown",
   "id": "d72424d2-1ec1-4dcb-866c-58bc8325ec37",
   "metadata": {},
   "source": [
    "<center><img src=\"data:image/jpeg;base64,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\" alt=\"LogoUANL\" width=\"800\">  </center>\n"
   ]
  },
  {
   "cell_type": "markdown",
   "id": "c349f816-cbd2-4317-a2d2-a88015b490fb",
   "metadata": {},
   "source": [
    "<h1>  <center>  Aprendizaje Automatizado   </center>    <h1> "
   ]
  },
  {
   "cell_type": "markdown",
   "id": "52477cbe-a8fe-4bf4-8db0-15735f8a8aba",
   "metadata": {},
   "source": [
    "<t1>    <center>    <b> Practica 3: Modelo de Clasificacion (Renta de bicicletas (SEUL) </center>  </t1>"
   ]
  },
  {
   "cell_type": "markdown",
   "id": "01e57a7d-1cd0-4ab6-8554-c6148886c46a",
   "metadata": {},
   "source": [
    "<t1>   <center>   \n",
    "   <b>   Nombre  </b>    Cynthia  Selene Martínez Espinoza <b>  Matricula   </b> 1011238                            \n",
    "</center>   </t1>"
   ]
  },
  {
   "cell_type": "markdown",
   "id": "e8103e11-1257-4154-8540-9f3214ebc7d4",
   "metadata": {},
   "source": [
    "<h2> Carga de Librerias / funciones </h2>"
   ]
  },
  {
   "cell_type": "code",
   "execution_count": 43,
   "id": "210d2fd4-f7e2-4881-9f35-7ad5d95c5804",
   "metadata": {},
   "outputs": [],
   "source": [
    "import pandas as pd\n",
    "import numpy as np\n",
    "import matplotlib.pyplot as plt\n",
    "import seaborn as sns\n",
    "from sklearn.model_selection import cross_val_score, train_test_split\n",
    "from sklearn.preprocessing import StandardScaler\n",
    "from sklearn.neighbors import KNeighborsClassifier\n",
    "from sklearn.tree import DecisionTreeClassifier, DecisionTreeRegressor\n",
    "from sklearn.svm import SVC\n",
    "from sklearn.linear_model import LogisticRegression\n",
    "from sklearn.metrics import accuracy_score, precision_score, recall_score, f1_score, roc_auc_score, mean_squared_error, r2_score, confusion_matrix, roc_curve,  precision_recall_curve"
   ]
  },
  {
   "cell_type": "markdown",
   "id": "44bf8dab-51d6-4d81-99c3-4431da9173c9",
   "metadata": {
    "jp-MarkdownHeadingCollapsed": true
   },
   "source": [
    "<h2> Carga de datos </h2>"
   ]
  },
  {
   "cell_type": "code",
   "execution_count": 2,
   "id": "bcce98aa-fb44-412b-bc48-078fade7a6a0",
   "metadata": {},
   "outputs": [],
   "source": [
    "# Leer los datos de archivo csv, typed_uanl.csv con el URL\n",
    "url =  \"C:/Users/PC/Documents/GitHub/GitFlow-en-Github/ML003/Practica 3/Practica/RentasBicicletasSEUL.csv\"\n",
    "df = pd.read_csv(url)"
   ]
  },
  {
   "cell_type": "code",
   "execution_count": 3,
   "id": "cf03d32d-22f2-49b8-ac0c-43d5a92db6f2",
   "metadata": {},
   "outputs": [
    {
     "name": "stdout",
     "output_type": "stream",
     "text": [
      "         Date  Rented Bike Count  Hour  Temperature(°C)  Humidity(%)  \\\n",
      "0  01/12/2017                254     0             -5.2           37   \n",
      "1  01/12/2017                204     1             -5.5           38   \n",
      "2  01/12/2017                173     2             -6.0           39   \n",
      "3  01/12/2017                107     3             -6.2           40   \n",
      "4  01/12/2017                 78     4             -6.0           36   \n",
      "\n",
      "   Wind speed (m/s)  Visibility (10m)  Dew point temperature(°C)  \\\n",
      "0               2.2              2000                      -17.6   \n",
      "1               0.8              2000                      -17.6   \n",
      "2               1.0              2000                      -17.7   \n",
      "3               0.9              2000                      -17.6   \n",
      "4               2.3              2000                      -18.6   \n",
      "\n",
      "   Solar Radiation (MJ/m2)  Rainfall(mm)  Snowfall (cm) Seasons     Holiday  \\\n",
      "0                      0.0           0.0            0.0  Winter  No Holiday   \n",
      "1                      0.0           0.0            0.0  Winter  No Holiday   \n",
      "2                      0.0           0.0            0.0  Winter  No Holiday   \n",
      "3                      0.0           0.0            0.0  Winter  No Holiday   \n",
      "4                      0.0           0.0            0.0  Winter  No Holiday   \n",
      "\n",
      "  Functioning Day  \n",
      "0             Yes  \n",
      "1             Yes  \n",
      "2             Yes  \n",
      "3             Yes  \n",
      "4             Yes  \n"
     ]
    }
   ],
   "source": [
    "# Mostrar las primeras filas del DataFrame\n",
    "print(df.head())"
   ]
  },
  {
   "cell_type": "code",
   "execution_count": 4,
   "id": "60ee4222-5ffd-4f24-a012-f2deaf87bf52",
   "metadata": {},
   "outputs": [],
   "source": [
    "# Seleccionar características y etiquetas\n",
    "X = df.drop(['Rented Bike Count', 'Date', 'Seasons', 'Holiday', 'Functioning Day'], axis=1)\n",
    "y = (df['Rented Bike Count'] > 500).astype(int)  # Etiqueta: 1 si > 500 bicicletas rentadas, 0 si no\n"
   ]
  },
  {
   "cell_type": "code",
   "execution_count": 5,
   "id": "e5666c0e-bee1-4b08-99f7-9a0118983118",
   "metadata": {},
   "outputs": [
    {
     "data": {
      "text/html": [
       "<div>\n",
       "<style scoped>\n",
       "    .dataframe tbody tr th:only-of-type {\n",
       "        vertical-align: middle;\n",
       "    }\n",
       "\n",
       "    .dataframe tbody tr th {\n",
       "        vertical-align: top;\n",
       "    }\n",
       "\n",
       "    .dataframe thead th {\n",
       "        text-align: right;\n",
       "    }\n",
       "</style>\n",
       "<table border=\"1\" class=\"dataframe\">\n",
       "  <thead>\n",
       "    <tr style=\"text-align: right;\">\n",
       "      <th></th>\n",
       "      <th>Hour</th>\n",
       "      <th>Temperature(°C)</th>\n",
       "      <th>Humidity(%)</th>\n",
       "      <th>Wind speed (m/s)</th>\n",
       "      <th>Visibility (10m)</th>\n",
       "      <th>Dew point temperature(°C)</th>\n",
       "      <th>Solar Radiation (MJ/m2)</th>\n",
       "      <th>Rainfall(mm)</th>\n",
       "      <th>Snowfall (cm)</th>\n",
       "    </tr>\n",
       "  </thead>\n",
       "  <tbody>\n",
       "    <tr>\n",
       "      <th>0</th>\n",
       "      <td>0</td>\n",
       "      <td>-5.2</td>\n",
       "      <td>37</td>\n",
       "      <td>2.2</td>\n",
       "      <td>2000</td>\n",
       "      <td>-17.6</td>\n",
       "      <td>0.0</td>\n",
       "      <td>0.0</td>\n",
       "      <td>0.0</td>\n",
       "    </tr>\n",
       "    <tr>\n",
       "      <th>1</th>\n",
       "      <td>1</td>\n",
       "      <td>-5.5</td>\n",
       "      <td>38</td>\n",
       "      <td>0.8</td>\n",
       "      <td>2000</td>\n",
       "      <td>-17.6</td>\n",
       "      <td>0.0</td>\n",
       "      <td>0.0</td>\n",
       "      <td>0.0</td>\n",
       "    </tr>\n",
       "    <tr>\n",
       "      <th>2</th>\n",
       "      <td>2</td>\n",
       "      <td>-6.0</td>\n",
       "      <td>39</td>\n",
       "      <td>1.0</td>\n",
       "      <td>2000</td>\n",
       "      <td>-17.7</td>\n",
       "      <td>0.0</td>\n",
       "      <td>0.0</td>\n",
       "      <td>0.0</td>\n",
       "    </tr>\n",
       "    <tr>\n",
       "      <th>3</th>\n",
       "      <td>3</td>\n",
       "      <td>-6.2</td>\n",
       "      <td>40</td>\n",
       "      <td>0.9</td>\n",
       "      <td>2000</td>\n",
       "      <td>-17.6</td>\n",
       "      <td>0.0</td>\n",
       "      <td>0.0</td>\n",
       "      <td>0.0</td>\n",
       "    </tr>\n",
       "    <tr>\n",
       "      <th>4</th>\n",
       "      <td>4</td>\n",
       "      <td>-6.0</td>\n",
       "      <td>36</td>\n",
       "      <td>2.3</td>\n",
       "      <td>2000</td>\n",
       "      <td>-18.6</td>\n",
       "      <td>0.0</td>\n",
       "      <td>0.0</td>\n",
       "      <td>0.0</td>\n",
       "    </tr>\n",
       "  </tbody>\n",
       "</table>\n",
       "</div>"
      ],
      "text/plain": [
       "   Hour  Temperature(°C)  Humidity(%)  Wind speed (m/s)  Visibility (10m)  \\\n",
       "0     0             -5.2           37               2.2              2000   \n",
       "1     1             -5.5           38               0.8              2000   \n",
       "2     2             -6.0           39               1.0              2000   \n",
       "3     3             -6.2           40               0.9              2000   \n",
       "4     4             -6.0           36               2.3              2000   \n",
       "\n",
       "   Dew point temperature(°C)  Solar Radiation (MJ/m2)  Rainfall(mm)  \\\n",
       "0                      -17.6                      0.0           0.0   \n",
       "1                      -17.6                      0.0           0.0   \n",
       "2                      -17.7                      0.0           0.0   \n",
       "3                      -17.6                      0.0           0.0   \n",
       "4                      -18.6                      0.0           0.0   \n",
       "\n",
       "   Snowfall (cm)  \n",
       "0            0.0  \n",
       "1            0.0  \n",
       "2            0.0  \n",
       "3            0.0  \n",
       "4            0.0  "
      ]
     },
     "execution_count": 5,
     "metadata": {},
     "output_type": "execute_result"
    }
   ],
   "source": [
    "X.head()"
   ]
  },
  {
   "cell_type": "code",
   "execution_count": 6,
   "id": "dea2ad16-9065-497b-8cf2-f5d6c95f630f",
   "metadata": {},
   "outputs": [],
   "source": [
    "# Convertir características categóricas a variables dummy\n",
    "X = pd.get_dummies(X, drop_first=True)"
   ]
  },
  {
   "cell_type": "code",
   "execution_count": 7,
   "id": "6d01a3db-6451-48c4-a132-6642ce12013b",
   "metadata": {},
   "outputs": [
    {
     "data": {
      "text/html": [
       "<div>\n",
       "<style scoped>\n",
       "    .dataframe tbody tr th:only-of-type {\n",
       "        vertical-align: middle;\n",
       "    }\n",
       "\n",
       "    .dataframe tbody tr th {\n",
       "        vertical-align: top;\n",
       "    }\n",
       "\n",
       "    .dataframe thead th {\n",
       "        text-align: right;\n",
       "    }\n",
       "</style>\n",
       "<table border=\"1\" class=\"dataframe\">\n",
       "  <thead>\n",
       "    <tr style=\"text-align: right;\">\n",
       "      <th></th>\n",
       "      <th>Hour</th>\n",
       "      <th>Temperature(°C)</th>\n",
       "      <th>Humidity(%)</th>\n",
       "      <th>Wind speed (m/s)</th>\n",
       "      <th>Visibility (10m)</th>\n",
       "      <th>Dew point temperature(°C)</th>\n",
       "      <th>Solar Radiation (MJ/m2)</th>\n",
       "      <th>Rainfall(mm)</th>\n",
       "      <th>Snowfall (cm)</th>\n",
       "    </tr>\n",
       "  </thead>\n",
       "  <tbody>\n",
       "    <tr>\n",
       "      <th>0</th>\n",
       "      <td>0</td>\n",
       "      <td>-5.2</td>\n",
       "      <td>37</td>\n",
       "      <td>2.2</td>\n",
       "      <td>2000</td>\n",
       "      <td>-17.6</td>\n",
       "      <td>0.0</td>\n",
       "      <td>0.0</td>\n",
       "      <td>0.0</td>\n",
       "    </tr>\n",
       "    <tr>\n",
       "      <th>1</th>\n",
       "      <td>1</td>\n",
       "      <td>-5.5</td>\n",
       "      <td>38</td>\n",
       "      <td>0.8</td>\n",
       "      <td>2000</td>\n",
       "      <td>-17.6</td>\n",
       "      <td>0.0</td>\n",
       "      <td>0.0</td>\n",
       "      <td>0.0</td>\n",
       "    </tr>\n",
       "    <tr>\n",
       "      <th>2</th>\n",
       "      <td>2</td>\n",
       "      <td>-6.0</td>\n",
       "      <td>39</td>\n",
       "      <td>1.0</td>\n",
       "      <td>2000</td>\n",
       "      <td>-17.7</td>\n",
       "      <td>0.0</td>\n",
       "      <td>0.0</td>\n",
       "      <td>0.0</td>\n",
       "    </tr>\n",
       "    <tr>\n",
       "      <th>3</th>\n",
       "      <td>3</td>\n",
       "      <td>-6.2</td>\n",
       "      <td>40</td>\n",
       "      <td>0.9</td>\n",
       "      <td>2000</td>\n",
       "      <td>-17.6</td>\n",
       "      <td>0.0</td>\n",
       "      <td>0.0</td>\n",
       "      <td>0.0</td>\n",
       "    </tr>\n",
       "    <tr>\n",
       "      <th>4</th>\n",
       "      <td>4</td>\n",
       "      <td>-6.0</td>\n",
       "      <td>36</td>\n",
       "      <td>2.3</td>\n",
       "      <td>2000</td>\n",
       "      <td>-18.6</td>\n",
       "      <td>0.0</td>\n",
       "      <td>0.0</td>\n",
       "      <td>0.0</td>\n",
       "    </tr>\n",
       "  </tbody>\n",
       "</table>\n",
       "</div>"
      ],
      "text/plain": [
       "   Hour  Temperature(°C)  Humidity(%)  Wind speed (m/s)  Visibility (10m)  \\\n",
       "0     0             -5.2           37               2.2              2000   \n",
       "1     1             -5.5           38               0.8              2000   \n",
       "2     2             -6.0           39               1.0              2000   \n",
       "3     3             -6.2           40               0.9              2000   \n",
       "4     4             -6.0           36               2.3              2000   \n",
       "\n",
       "   Dew point temperature(°C)  Solar Radiation (MJ/m2)  Rainfall(mm)  \\\n",
       "0                      -17.6                      0.0           0.0   \n",
       "1                      -17.6                      0.0           0.0   \n",
       "2                      -17.7                      0.0           0.0   \n",
       "3                      -17.6                      0.0           0.0   \n",
       "4                      -18.6                      0.0           0.0   \n",
       "\n",
       "   Snowfall (cm)  \n",
       "0            0.0  \n",
       "1            0.0  \n",
       "2            0.0  \n",
       "3            0.0  \n",
       "4            0.0  "
      ]
     },
     "execution_count": 7,
     "metadata": {},
     "output_type": "execute_result"
    }
   ],
   "source": [
    "X.head(5)"
   ]
  },
  {
   "cell_type": "markdown",
   "id": "f86a1b95-94e4-46cc-802d-2460fcb1518b",
   "metadata": {},
   "source": [
    "<h2> Encontrar al mejor modelo, con Validacion Cruzada  </h2>"
   ]
  },
  {
   "cell_type": "code",
   "execution_count": 8,
   "id": "2fc68e01-05ca-430c-aff1-661eb0a34eb2",
   "metadata": {},
   "outputs": [],
   "source": [
    "# Preprocesar los datos: convertir columnas categóricas a numéricas y manejar valores faltantes si los hay\n",
    "df['Seasons'] = df['Seasons'].astype('category').cat.codes\n",
    "df['Holiday'] = df['Holiday'].astype('category').cat.codes\n",
    "df['Functioning Day'] = df['Functioning Day'].astype('category').cat.codes"
   ]
  },
  {
   "cell_type": "code",
   "execution_count": 9,
   "id": "7f14cffa-5627-4b36-940d-07017aea4ff1",
   "metadata": {},
   "outputs": [],
   "source": [
    "# Crear una variable binaria de clasificación basada en un umbral de renta de bicicletas\n",
    "umbral = df['Rented Bike Count'].median()\n",
    "df['High Demand'] = (df['Rented Bike Count'] > umbral).astype(int)"
   ]
  },
  {
   "cell_type": "code",
   "execution_count": 10,
   "id": "7afdb669-18ba-4103-a8c4-0cad53c4897e",
   "metadata": {},
   "outputs": [],
   "source": [
    "# Selección de características y variable objetivo\n",
    "funciones = [\n",
    "    'Hour', 'Temperature(°C)', 'Humidity(%)', 'Wind speed (m/s)', \n",
    "    'Visibility (10m)', 'Dew point temperature(°C)', \n",
    "    'Solar Radiation (MJ/m2)', 'Rainfall(mm)', 'Snowfall (cm)', \n",
    "    'Seasons', 'Holiday', 'Functioning Day'\n",
    "]\n",
    "X = df[funciones]\n",
    "y = df['High Demand']"
   ]
  },
  {
   "cell_type": "code",
   "execution_count": 23,
   "id": "49bb7aba-a84b-4ea6-a11e-56b5145545c0",
   "metadata": {},
   "outputs": [],
   "source": [
    "# Dividir en conjunto de entrenamiento y prueba\n",
    "X_entrenamiento, X_prueba, y_entrenamiento, y_prueba = train_test_split(X, y, test_size=0.2, random_state=42)"
   ]
  },
  {
   "cell_type": "code",
   "execution_count": 12,
   "id": "e6441cd0-29cd-4034-bf5c-84f4a2a21914",
   "metadata": {},
   "outputs": [],
   "source": [
    "# Normalizar las características\n",
    "DatosEscalados = StandardScaler()\n",
    "X_entrenamiento = DatosEscalados.fit_transform(X_entrenamiento)\n",
    "X_prueba = DatosEscalados.transform(X_prueba)"
   ]
  },
  {
   "cell_type": "code",
   "execution_count": 13,
   "id": "385fa5c3-fdf2-4a0d-bca0-c143f8024913",
   "metadata": {},
   "outputs": [],
   "source": [
    "# Definir los modelos de clasificación\n",
    "modelos = {\n",
    "    'KNN': KNeighborsClassifier(),\n",
    "    'Arbol de decision': DecisionTreeClassifier(),\n",
    "    'SVM': SVC(probability=True),\n",
    "    'Regresion Logistica': LogisticRegression()\n",
    "}"
   ]
  },
  {
   "cell_type": "code",
   "execution_count": 14,
   "id": "f8b07303-367f-4de4-a94d-98d2b318ed90",
   "metadata": {},
   "outputs": [],
   "source": [
    "# Validación cruzada,  encontrar el mejor modelo de clasificación basado en el criterio de precisión\n",
    "criteriopuntuacion = 'accuracy'\n",
    "resultados = {}\n",
    "for nombre, modelo in modelos.items():\n",
    "    puntos = cross_val_score(modelo, X_entrenamiento, y_entrenamiento, cv=5, scoring=criteriopuntuacion)\n",
    "    resultados[nombre] = puntos.mean()"
   ]
  },
  {
   "cell_type": "code",
   "execution_count": 15,
   "id": "58f4a46a-3db2-44a9-ace3-47eac3c65649",
   "metadata": {},
   "outputs": [],
   "source": [
    "# Encontrar el mejor modelo de clasificación\n",
    "Mejor_Modelo_Nombre = max(resultados, key=resultados.get)\n",
    "Mejor_Modelo = modelos[Mejor_Modelo_Nombre]"
   ]
  },
  {
   "cell_type": "code",
   "execution_count": 16,
   "id": "7c4a6740-cac6-499b-b151-5e7ab3f6a6ed",
   "metadata": {},
   "outputs": [
    {
     "name": "stdout",
     "output_type": "stream",
     "text": [
      "Resultados de la Validación Cruzada (Accuracy): {'KNN': 0.8939786233798765, 'Arbol de decision': 0.9032532295558197, 'SVM': 0.8837052400924141, 'Regresion Logistica': 0.8621576599555443}\n",
      "El mejor modelo es: Arbol de decision con una Accuracy de 0.9033\n"
     ]
    }
   ],
   "source": [
    "# Mostrar resultados\n",
    "print(f\"Resultados de la Validación Cruzada (Accuracy): {resultados}\")\n",
    "print(f\"El mejor modelo es: {Mejor_Modelo_Nombre} con una Accuracy de {resultados[Mejor_Modelo_Nombre]:.4f}\")"
   ]
  },
  {
   "cell_type": "markdown",
   "id": "947725d1-a0f1-4fca-9f97-a2c2e64f6b23",
   "metadata": {
    "jp-MarkdownHeadingCollapsed": true
   },
   "source": [
    "<h2> Entrenar mejor modelo encontrado en validacion cruzada</h2>"
   ]
  },
  {
   "cell_type": "code",
   "execution_count": 17,
   "id": "f392585a-695c-4428-b2c6-8657b9fee41b",
   "metadata": {},
   "outputs": [
    {
     "data": {
      "text/html": [
       "<style>#sk-container-id-1 {color: black;background-color: white;}#sk-container-id-1 pre{padding: 0;}#sk-container-id-1 div.sk-toggleable {background-color: white;}#sk-container-id-1 label.sk-toggleable__label {cursor: pointer;display: block;width: 100%;margin-bottom: 0;padding: 0.3em;box-sizing: border-box;text-align: center;}#sk-container-id-1 label.sk-toggleable__label-arrow:before {content: \"▸\";float: left;margin-right: 0.25em;color: #696969;}#sk-container-id-1 label.sk-toggleable__label-arrow:hover:before {color: black;}#sk-container-id-1 div.sk-estimator:hover label.sk-toggleable__label-arrow:before {color: black;}#sk-container-id-1 div.sk-toggleable__content {max-height: 0;max-width: 0;overflow: hidden;text-align: left;background-color: #f0f8ff;}#sk-container-id-1 div.sk-toggleable__content pre {margin: 0.2em;color: black;border-radius: 0.25em;background-color: #f0f8ff;}#sk-container-id-1 input.sk-toggleable__control:checked~div.sk-toggleable__content {max-height: 200px;max-width: 100%;overflow: auto;}#sk-container-id-1 input.sk-toggleable__control:checked~label.sk-toggleable__label-arrow:before {content: \"▾\";}#sk-container-id-1 div.sk-estimator input.sk-toggleable__control:checked~label.sk-toggleable__label {background-color: #d4ebff;}#sk-container-id-1 div.sk-label input.sk-toggleable__control:checked~label.sk-toggleable__label {background-color: #d4ebff;}#sk-container-id-1 input.sk-hidden--visually {border: 0;clip: rect(1px 1px 1px 1px);clip: rect(1px, 1px, 1px, 1px);height: 1px;margin: -1px;overflow: hidden;padding: 0;position: absolute;width: 1px;}#sk-container-id-1 div.sk-estimator {font-family: monospace;background-color: #f0f8ff;border: 1px dotted black;border-radius: 0.25em;box-sizing: border-box;margin-bottom: 0.5em;}#sk-container-id-1 div.sk-estimator:hover {background-color: #d4ebff;}#sk-container-id-1 div.sk-parallel-item::after {content: \"\";width: 100%;border-bottom: 1px solid gray;flex-grow: 1;}#sk-container-id-1 div.sk-label:hover label.sk-toggleable__label {background-color: #d4ebff;}#sk-container-id-1 div.sk-serial::before {content: \"\";position: absolute;border-left: 1px solid gray;box-sizing: border-box;top: 0;bottom: 0;left: 50%;z-index: 0;}#sk-container-id-1 div.sk-serial {display: flex;flex-direction: column;align-items: center;background-color: white;padding-right: 0.2em;padding-left: 0.2em;position: relative;}#sk-container-id-1 div.sk-item {position: relative;z-index: 1;}#sk-container-id-1 div.sk-parallel {display: flex;align-items: stretch;justify-content: center;background-color: white;position: relative;}#sk-container-id-1 div.sk-item::before, #sk-container-id-1 div.sk-parallel-item::before {content: \"\";position: absolute;border-left: 1px solid gray;box-sizing: border-box;top: 0;bottom: 0;left: 50%;z-index: -1;}#sk-container-id-1 div.sk-parallel-item {display: flex;flex-direction: column;z-index: 1;position: relative;background-color: white;}#sk-container-id-1 div.sk-parallel-item:first-child::after {align-self: flex-end;width: 50%;}#sk-container-id-1 div.sk-parallel-item:last-child::after {align-self: flex-start;width: 50%;}#sk-container-id-1 div.sk-parallel-item:only-child::after {width: 0;}#sk-container-id-1 div.sk-dashed-wrapped {border: 1px dashed gray;margin: 0 0.4em 0.5em 0.4em;box-sizing: border-box;padding-bottom: 0.4em;background-color: white;}#sk-container-id-1 div.sk-label label {font-family: monospace;font-weight: bold;display: inline-block;line-height: 1.2em;}#sk-container-id-1 div.sk-label-container {text-align: center;}#sk-container-id-1 div.sk-container {/* jupyter's `normalize.less` sets `[hidden] { display: none; }` but bootstrap.min.css set `[hidden] { display: none !important; }` so we also need the `!important` here to be able to override the default hidden behavior on the sphinx rendered scikit-learn.org. See: https://github.com/scikit-learn/scikit-learn/issues/21755 */display: inline-block !important;position: relative;}#sk-container-id-1 div.sk-text-repr-fallback {display: none;}</style><div id=\"sk-container-id-1\" class=\"sk-top-container\"><div class=\"sk-text-repr-fallback\"><pre>DecisionTreeClassifier()</pre><b>In a Jupyter environment, please rerun this cell to show the HTML representation or trust the notebook. <br />On GitHub, the HTML representation is unable to render, please try loading this page with nbviewer.org.</b></div><div class=\"sk-container\" hidden><div class=\"sk-item\"><div class=\"sk-estimator sk-toggleable\"><input class=\"sk-toggleable__control sk-hidden--visually\" id=\"sk-estimator-id-1\" type=\"checkbox\" checked><label for=\"sk-estimator-id-1\" class=\"sk-toggleable__label sk-toggleable__label-arrow\">DecisionTreeClassifier</label><div class=\"sk-toggleable__content\"><pre>DecisionTreeClassifier()</pre></div></div></div></div></div>"
      ],
      "text/plain": [
       "DecisionTreeClassifier()"
      ]
     },
     "execution_count": 17,
     "metadata": {},
     "output_type": "execute_result"
    }
   ],
   "source": [
    "# Entrenar el mejor modelo en todo el conjunto de datos de entrenamiento\n",
    "Mejor_Modelo.fit(X_entrenamiento, y_entrenamiento)"
   ]
  },
  {
   "cell_type": "code",
   "execution_count": 18,
   "id": "3aa47541-e7f2-49a5-815f-5f850ad1d5f8",
   "metadata": {},
   "outputs": [],
   "source": [
    "# Evaluar el modelo en el conjunto de prueba\n",
    "y_prediccion = Mejor_Modelo.predict(X_prueba)"
   ]
  },
  {
   "cell_type": "code",
   "execution_count": 19,
   "id": "b799dc92-bb96-4db8-9993-9791bb84302e",
   "metadata": {},
   "outputs": [],
   "source": [
    "# Evaluar varias métricas\n",
    "accuracy = accuracy_score(y_prueba, y_prediccion)\n",
    "precision = precision_score(y_prueba, y_prediccion)\n",
    "recall = recall_score(y_prueba, y_prediccion)\n",
    "f1 = f1_score(y_prueba, y_prediccion)\n",
    "roc_auc = roc_auc_score(y_prueba, Mejor_Modelo.predict_proba(X_prueba)[:, 1])"
   ]
  },
  {
   "cell_type": "code",
   "execution_count": 20,
   "id": "0cf39c87-e083-4027-a10f-5d41cb60f51a",
   "metadata": {},
   "outputs": [
    {
     "name": "stdout",
     "output_type": "stream",
     "text": [
      "\n",
      "Evaluación en el conjunto de prueba:\n",
      "Accuracy: 0.9144\n",
      "Precision: 0.9183\n",
      "Recall: 0.9077\n",
      "F1 Score: 0.9130\n",
      "ROC AUC: 0.9143\n"
     ]
    }
   ],
   "source": [
    "# Mostrar resultados\n",
    "print(f\"\\nEvaluación en el conjunto de prueba:\")\n",
    "print(f\"Accuracy: {accuracy:.4f}\")\n",
    "print(f\"Precision: {precision:.4f}\")\n",
    "print(f\"Recall: {recall:.4f}\")\n",
    "print(f\"F1 Score: {f1:.4f}\")\n",
    "print(f\"ROC AUC: {roc_auc:.4f}\")"
   ]
  },
  {
   "cell_type": "code",
   "execution_count": 31,
   "id": "1449f475-36c2-42fb-9df5-0c10bf949c86",
   "metadata": {},
   "outputs": [
    {
     "name": "stdout",
     "output_type": "stream",
     "text": [
      "Mean Squared Error: 0.08618721461187215\n",
      "R^2 Score: 0.6552147479131234\n"
     ]
    }
   ],
   "source": [
    "# Entrenar el modelo de árbol de decisión\n",
    "tree = DecisionTreeRegressor(random_state=42)\n",
    "tree.fit(X_entrenamiento, y_entrenamiento) \n",
    "\n",
    "# Realizar predicciones\n",
    "y_prediccion = tree.predict(X_prueba)\n",
    "\n",
    "# Evaluar el modelo\n",
    "mse = mean_squared_error(y_prueba, y_prediccion)\n",
    "r2 = r2_score(y_prueba, y_prediccion)\n",
    "\n",
    "# Mostrar los resultados\n",
    "print(f\"Mean Squared Error: {mse}\")\n",
    "print(f\"R^2 Score: {r2}\")\n",
    "\n",
    "# Visualizar la importancia de las características\n",
    "importances = tree.feature_importances_\n",
    "indices = np.argsort(importances)[::-1]\n"
   ]
  },
  {
   "cell_type": "markdown",
   "id": "17c42d8d-2f78-4f9d-8b05-416f0d5c8da5",
   "metadata": {
    "jp-MarkdownHeadingCollapsed": true
   },
   "source": [
    "<h2> Grafica </h2>"
   ]
  },
  {
   "cell_type": "code",
   "execution_count": 35,
   "id": "6a8f9f80-3e99-4897-a0eb-427ff29ac4ca",
   "metadata": {
    "scrolled": true
   },
   "outputs": [
    {
     "data": {
      "image/png": "[encoded data removed]",
      "text/plain": [
       "<Figure size 1000x600 with 1 Axes>"
      ]
     },
     "metadata": {},
     "output_type": "display_data"
    }
   ],
   "source": [
    "plt.figure(figsize=(10, 6))\n",
    "plt.title(\"Variables relevantes para predecir alta demanda en las  Rentas de bicicletas\")\n",
    "plt.bar(range(X.shape[1]), importances[indices], align=\"center\" , color=\"orange\")\n",
    "plt.xticks(range(X.shape[1]), [funciones[i] for i in indices], rotation=90)\n",
    "plt.tight_layout()\n",
    "plt.savefig(\"C:/Users/PC/Documents/GitHub/GitFlow-en-Github/ML003/Practica 3/Practica/GraficaBarraVariablesrelevantes.png\")\n",
    "plt.show()\n",
    "plt.close()"
   ]
  },
  {
   "cell_type": "code",
   "execution_count": 40,
   "id": "4935dc3f-4cd6-4c94-b463-7ad5a073c308",
   "metadata": {},
   "outputs": [
    {
     "data": {
      "image/png": "[encoded data removed]",
      "text/plain": [
       "<Figure size 800x600 with 1 Axes>"
      ]
     },
     "metadata": {},
     "output_type": "display_data"
    }
   ],
   "source": [
    "# Matriz de Confusión\n",
    "conf_matrix = confusion_matrix(y_prueba, y_prediccion)\n",
    "\n",
    "plt.figure(figsize=(8, 6))\n",
    "sns.heatmap(conf_matrix, annot=True, fmt='d', cmap='Blues', cbar=False,\n",
    "            xticklabels=['Baja Demanda', 'Alta Demanda'], \n",
    "            yticklabels=['Baja Demanda', 'Alta Demanda'])\n",
    "plt.xlabel('Predicción')\n",
    "plt.ylabel('Valor Real')\n",
    "plt.title('Matriz de Confusión')\n",
    "plt.savefig(\"C:/Users/PC/Documents/GitHub/GitFlow-en-Github/ML003/Practica 3/Practica/GraficaConfusionDemanda.png\")\n",
    "plt.show()\n",
    "plt.close()\n",
    "plt.show()\n",
    "\n"
   ]
  },
  {
   "cell_type": "markdown",
   "id": "3ea85e8a-28bf-4e6b-998c-06cf507ed9b6",
   "metadata": {},
   "source": [
    "<h2> Analisis de resultados </h2>"
   ]
  },
  {
   "cell_type": "markdown",
   "id": "47f32737-9d01-46fb-abed-a70e76f44d6e",
   "metadata": {},
   "source": [
    " <t2>   \n",
    "\n",
    "El modelo de árbol de decisión ha mostrado ser el mejor modelo de clasificación según la métrica de accuracy tanto en la validación cruzada como en el conjunto de prueba. Un accuracy de 0.9144 indica que el modelo predice correctamente si habrá alta demanda de bicicletas en aproximadamente el 91.44% de los casos\n",
    "\n",
    "La precisión de 0.9183 y el recall de 0.9077 sugieren que el modelo es muy bueno tanto para identificar correctamente los períodos de alta demanda (recall) como para asegurar que las predicciones de alta demanda son correctas (precisión).\n",
    "\n",
    "Las variables como la hora del día, la temperatura, la humedad, y las condiciones meteorológicas tienen una influencia significativa en la demanda de bicicletas.\n",
    "\n",
    "Con un accuracy superior al 90%, y métricas de precisión, recall, F1 y ROC AUC que reflejan un rendimiento robusto, el modelo proporciona una base sólida para la toma de decisiones operativas y estratégicas.\n",
    "    \n",
    "</t2>"
   ]
  },
  {
   "cell_type": "code",
   "execution_count": null,
   "id": "855fa4ca-7e31-4146-a269-5c09b331fe73",
   "metadata": {},
   "outputs": [],
   "source": []
  }
 ],
 "metadata": {
  "kernelspec": {
   "display_name": "Python 3 (ipykernel)",
   "language": "python",
   "name": "python3"
  },
  "language_info": {
   "codemirror_mode": {
    "name": "ipython",
    "version": 3
   },
   "file_extension": ".py",
   "mimetype": "text/x-python",
   "name": "python",
   "nbconvert_exporter": "python",
   "pygments_lexer": "ipython3",
   "version": "3.11.7"
  }
 },
 "nbformat": 4,
 "nbformat_minor": 5
}
