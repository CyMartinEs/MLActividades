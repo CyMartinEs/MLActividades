{
 "cells": [
  {
   "cell_type": "code",
   "execution_count": 1,
   "id": "f967094d-5bd9-4383-80f8-64da4b7598ac",
   "metadata": {},
   "outputs": [
    {
     "name": "stdout",
     "output_type": "stream",
     "text": [
      "Requirement already satisfied: numpy in c:\\users\\pc\\anaconda3\\lib\\site-packages (1.26.4)\n",
      "Requirement already satisfied: pandas in c:\\users\\pc\\anaconda3\\lib\\site-packages (2.1.4)\n",
      "Requirement already satisfied: matplotlib in c:\\users\\pc\\anaconda3\\lib\\site-packages (3.8.0)\n",
      "Requirement already satisfied: scikit-learn in c:\\users\\pc\\anaconda3\\lib\\site-packages (1.2.2)\n",
      "Requirement already satisfied: python-dateutil>=2.8.2 in c:\\users\\pc\\anaconda3\\lib\\site-packages (from pandas) (2.8.2)\n",
      "Requirement already satisfied: pytz>=2020.1 in c:\\users\\pc\\anaconda3\\lib\\site-packages (from pandas) (2023.3.post1)\n",
      "Requirement already satisfied: tzdata>=2022.1 in c:\\users\\pc\\anaconda3\\lib\\site-packages (from pandas) (2023.3)\n",
      "Requirement already satisfied: contourpy>=1.0.1 in c:\\users\\pc\\anaconda3\\lib\\site-packages (from matplotlib) (1.2.0)\n",
      "Requirement already satisfied: cycler>=0.10 in c:\\users\\pc\\anaconda3\\lib\\site-packages (from matplotlib) (0.11.0)\n",
      "Requirement already satisfied: fonttools>=4.22.0 in c:\\users\\pc\\anaconda3\\lib\\site-packages (from matplotlib) (4.25.0)\n",
      "Requirement already satisfied: kiwisolver>=1.0.1 in c:\\users\\pc\\anaconda3\\lib\\site-packages (from matplotlib) (1.4.4)\n",
      "Requirement already satisfied: packaging>=20.0 in c:\\users\\pc\\anaconda3\\lib\\site-packages (from matplotlib) (23.1)\n",
      "Requirement already satisfied: pillow>=6.2.0 in c:\\users\\pc\\anaconda3\\lib\\site-packages (from matplotlib) (10.2.0)\n",
      "Requirement already satisfied: pyparsing>=2.3.1 in c:\\users\\pc\\anaconda3\\lib\\site-packages (from matplotlib) (3.0.9)\n",
      "Requirement already satisfied: scipy>=1.3.2 in c:\\users\\pc\\anaconda3\\lib\\site-packages (from scikit-learn) (1.11.4)\n",
      "Requirement already satisfied: joblib>=1.1.1 in c:\\users\\pc\\anaconda3\\lib\\site-packages (from scikit-learn) (1.2.0)\n",
      "Requirement already satisfied: threadpoolctl>=2.0.0 in c:\\users\\pc\\anaconda3\\lib\\site-packages (from scikit-learn) (2.2.0)\n",
      "Requirement already satisfied: six>=1.5 in c:\\users\\pc\\anaconda3\\lib\\site-packages (from python-dateutil>=2.8.2->pandas) (1.16.0)\n",
      "Note: you may need to restart the kernel to use updated packages.\n"
     ]
    }
   ],
   "source": [
    "pip install numpy pandas matplotlib scikit-learn"
   ]
  },
  {
   "cell_type": "code",
   "execution_count": 2,
   "id": "09ebace3-5366-4447-b101-ad9171ae7b88",
   "metadata": {},
   "outputs": [],
   "source": [
    "#Importar librerias\n",
    "import pandas as pd\n",
    "import numpy as np\n",
    "import matplotlib.pyplot as plt\n",
    "from sklearn.model_selection import train_test_split\n",
    "from sklearn.preprocessing import StandardScaler\n",
    "from sklearn.linear_model import LinearRegression\n",
    "from sklearn.tree import DecisionTreeRegressor, DecisionTreeClassifier\n",
    "from sklearn.metrics import mean_squared_error, accuracy_score, r2_score"
   ]
  },
  {
   "cell_type": "markdown",
   "id": "beac7844-39a3-4915-a662-fdb227df5e8a",
   "metadata": {},
   "source": [
    "<h2> Carga de Datos </h2>"
   ]
  },
  {
   "cell_type": "code",
   "execution_count": 3,
   "id": "6d9cb27d-c626-408f-ab97-f1366a093b54",
   "metadata": {},
   "outputs": [],
   "source": [
    "# Leer los datos de archivo csv, typed_uanl.csv con el URL\n",
    "url =  \"C:/Users/PC/Documents/GitHub/GitFlow-en-Github/ML003/Practica 2/Practica/RentasBicicletasSEUL.csv\"\n",
    "df = pd.read_csv(url)"
   ]
  },
  {
   "cell_type": "code",
   "execution_count": 4,
   "id": "633cd282-f7ca-43c7-a4c4-7a793daf8696",
   "metadata": {},
   "outputs": [],
   "source": [
    "# Resumen estadístico de los datos\n",
    "summary_stats = df.describe()\n",
    "# Verificación de valores nulos\n",
    "missing_values = df.isnull().sum()"
   ]
  },
  {
   "cell_type": "code",
   "execution_count": 5,
   "id": "1edb92ba-e2cf-4a59-b1c1-f42f016fb7fc",
   "metadata": {},
   "outputs": [
    {
     "data": {
      "text/plain": [
       "(       Rented Bike Count         Hour  Temperature(°C)  Humidity(%)  \\\n",
       " count        8760.000000  8760.000000      8760.000000  8760.000000   \n",
       " mean          704.602055    11.500000        12.882922    58.226256   \n",
       " std           644.997468     6.922582        11.944825    20.362413   \n",
       " min             0.000000     0.000000       -17.800000     0.000000   \n",
       " 25%           191.000000     5.750000         3.500000    42.000000   \n",
       " 50%           504.500000    11.500000        13.700000    57.000000   \n",
       " 75%          1065.250000    17.250000        22.500000    74.000000   \n",
       " max          3556.000000    23.000000        39.400000    98.000000   \n",
       " \n",
       "        Wind speed (m/s)  Visibility (10m)  Dew point temperature(°C)  \\\n",
       " count       8760.000000       8760.000000                8760.000000   \n",
       " mean           1.724909       1436.825799                   4.073813   \n",
       " std            1.036300        608.298712                  13.060369   \n",
       " min            0.000000         27.000000                 -30.600000   \n",
       " 25%            0.900000        940.000000                  -4.700000   \n",
       " 50%            1.500000       1698.000000                   5.100000   \n",
       " 75%            2.300000       2000.000000                  14.800000   \n",
       " max            7.400000       2000.000000                  27.200000   \n",
       " \n",
       "        Solar Radiation (MJ/m2)  Rainfall(mm)  Snowfall (cm)  \n",
       " count              8760.000000   8760.000000    8760.000000  \n",
       " mean                  0.569111      0.148687       0.075068  \n",
       " std                   0.868746      1.128193       0.436746  \n",
       " min                   0.000000      0.000000       0.000000  \n",
       " 25%                   0.000000      0.000000       0.000000  \n",
       " 50%                   0.010000      0.000000       0.000000  \n",
       " 75%                   0.930000      0.000000       0.000000  \n",
       " max                   3.520000     35.000000       8.800000  ,\n",
       " Date                         0\n",
       " Rented Bike Count            0\n",
       " Hour                         0\n",
       " Temperature(°C)              0\n",
       " Humidity(%)                  0\n",
       " Wind speed (m/s)             0\n",
       " Visibility (10m)             0\n",
       " Dew point temperature(°C)    0\n",
       " Solar Radiation (MJ/m2)      0\n",
       " Rainfall(mm)                 0\n",
       " Snowfall (cm)                0\n",
       " Seasons                      0\n",
       " Holiday                      0\n",
       " Functioning Day              0\n",
       " dtype: int64)"
      ]
     },
     "execution_count": 5,
     "metadata": {},
     "output_type": "execute_result"
    }
   ],
   "source": [
    "summary_stats, missing_values"
   ]
  },
  {
   "cell_type": "code",
   "execution_count": 6,
   "id": "28e4f2d6-0f1a-4d83-b891-b39430b9ce1a",
   "metadata": {},
   "outputs": [
    {
     "data": {
      "text/html": [
       "<div>\n",
       "<style scoped>\n",
       "    .dataframe tbody tr th:only-of-type {\n",
       "        vertical-align: middle;\n",
       "    }\n",
       "\n",
       "    .dataframe tbody tr th {\n",
       "        vertical-align: top;\n",
       "    }\n",
       "\n",
       "    .dataframe thead th {\n",
       "        text-align: right;\n",
       "    }\n",
       "</style>\n",
       "<table border=\"1\" class=\"dataframe\">\n",
       "  <thead>\n",
       "    <tr style=\"text-align: right;\">\n",
       "      <th></th>\n",
       "      <th>Date</th>\n",
       "      <th>Rented Bike Count</th>\n",
       "      <th>Hour</th>\n",
       "      <th>Temperature(°C)</th>\n",
       "      <th>Humidity(%)</th>\n",
       "      <th>Wind speed (m/s)</th>\n",
       "      <th>Visibility (10m)</th>\n",
       "      <th>Dew point temperature(°C)</th>\n",
       "      <th>Solar Radiation (MJ/m2)</th>\n",
       "      <th>Rainfall(mm)</th>\n",
       "      <th>Snowfall (cm)</th>\n",
       "      <th>Seasons</th>\n",
       "      <th>Holiday</th>\n",
       "      <th>Functioning Day</th>\n",
       "    </tr>\n",
       "  </thead>\n",
       "  <tbody>\n",
       "    <tr>\n",
       "      <th>0</th>\n",
       "      <td>01/12/2017</td>\n",
       "      <td>254</td>\n",
       "      <td>0</td>\n",
       "      <td>-5.2</td>\n",
       "      <td>37</td>\n",
       "      <td>2.2</td>\n",
       "      <td>2000</td>\n",
       "      <td>-17.6</td>\n",
       "      <td>0.0</td>\n",
       "      <td>0.0</td>\n",
       "      <td>0.0</td>\n",
       "      <td>Winter</td>\n",
       "      <td>No Holiday</td>\n",
       "      <td>Yes</td>\n",
       "    </tr>\n",
       "    <tr>\n",
       "      <th>1</th>\n",
       "      <td>01/12/2017</td>\n",
       "      <td>204</td>\n",
       "      <td>1</td>\n",
       "      <td>-5.5</td>\n",
       "      <td>38</td>\n",
       "      <td>0.8</td>\n",
       "      <td>2000</td>\n",
       "      <td>-17.6</td>\n",
       "      <td>0.0</td>\n",
       "      <td>0.0</td>\n",
       "      <td>0.0</td>\n",
       "      <td>Winter</td>\n",
       "      <td>No Holiday</td>\n",
       "      <td>Yes</td>\n",
       "    </tr>\n",
       "    <tr>\n",
       "      <th>2</th>\n",
       "      <td>01/12/2017</td>\n",
       "      <td>173</td>\n",
       "      <td>2</td>\n",
       "      <td>-6.0</td>\n",
       "      <td>39</td>\n",
       "      <td>1.0</td>\n",
       "      <td>2000</td>\n",
       "      <td>-17.7</td>\n",
       "      <td>0.0</td>\n",
       "      <td>0.0</td>\n",
       "      <td>0.0</td>\n",
       "      <td>Winter</td>\n",
       "      <td>No Holiday</td>\n",
       "      <td>Yes</td>\n",
       "    </tr>\n",
       "    <tr>\n",
       "      <th>3</th>\n",
       "      <td>01/12/2017</td>\n",
       "      <td>107</td>\n",
       "      <td>3</td>\n",
       "      <td>-6.2</td>\n",
       "      <td>40</td>\n",
       "      <td>0.9</td>\n",
       "      <td>2000</td>\n",
       "      <td>-17.6</td>\n",
       "      <td>0.0</td>\n",
       "      <td>0.0</td>\n",
       "      <td>0.0</td>\n",
       "      <td>Winter</td>\n",
       "      <td>No Holiday</td>\n",
       "      <td>Yes</td>\n",
       "    </tr>\n",
       "    <tr>\n",
       "      <th>4</th>\n",
       "      <td>01/12/2017</td>\n",
       "      <td>78</td>\n",
       "      <td>4</td>\n",
       "      <td>-6.0</td>\n",
       "      <td>36</td>\n",
       "      <td>2.3</td>\n",
       "      <td>2000</td>\n",
       "      <td>-18.6</td>\n",
       "      <td>0.0</td>\n",
       "      <td>0.0</td>\n",
       "      <td>0.0</td>\n",
       "      <td>Winter</td>\n",
       "      <td>No Holiday</td>\n",
       "      <td>Yes</td>\n",
       "    </tr>\n",
       "  </tbody>\n",
       "</table>\n",
       "</div>"
      ],
      "text/plain": [
       "         Date  Rented Bike Count  Hour  Temperature(°C)  Humidity(%)  \\\n",
       "0  01/12/2017                254     0             -5.2           37   \n",
       "1  01/12/2017                204     1             -5.5           38   \n",
       "2  01/12/2017                173     2             -6.0           39   \n",
       "3  01/12/2017                107     3             -6.2           40   \n",
       "4  01/12/2017                 78     4             -6.0           36   \n",
       "\n",
       "   Wind speed (m/s)  Visibility (10m)  Dew point temperature(°C)  \\\n",
       "0               2.2              2000                      -17.6   \n",
       "1               0.8              2000                      -17.6   \n",
       "2               1.0              2000                      -17.7   \n",
       "3               0.9              2000                      -17.6   \n",
       "4               2.3              2000                      -18.6   \n",
       "\n",
       "   Solar Radiation (MJ/m2)  Rainfall(mm)  Snowfall (cm) Seasons     Holiday  \\\n",
       "0                      0.0           0.0            0.0  Winter  No Holiday   \n",
       "1                      0.0           0.0            0.0  Winter  No Holiday   \n",
       "2                      0.0           0.0            0.0  Winter  No Holiday   \n",
       "3                      0.0           0.0            0.0  Winter  No Holiday   \n",
       "4                      0.0           0.0            0.0  Winter  No Holiday   \n",
       "\n",
       "  Functioning Day  \n",
       "0             Yes  \n",
       "1             Yes  \n",
       "2             Yes  \n",
       "3             Yes  \n",
       "4             Yes  "
      ]
     },
     "execution_count": 6,
     "metadata": {},
     "output_type": "execute_result"
    }
   ],
   "source": [
    "df.head(5)"
   ]
  },
  {
   "cell_type": "code",
   "execution_count": 7,
   "id": "aebc71da-f7ca-4b91-bf1e-562923d48ace",
   "metadata": {},
   "outputs": [],
   "source": [
    "# Preprocesar los datos: convertir columnas categóricas a numéricas y manejar valores faltantes si los hay\n",
    "df['Seasons'] = df['Seasons'].astype('category').cat.codes\n",
    "df['Holiday'] = df['Holiday'].astype('category').cat.codes\n",
    "df['Functioning Day'] = df['Functioning Day'].astype('category').cat.codes"
   ]
  },
  {
   "cell_type": "code",
   "execution_count": 10,
   "id": "8039d20b-cbd2-41e0-8b08-5c87da449145",
   "metadata": {},
   "outputs": [],
   "source": [
    "# Selección de características y variable objetivo\n",
    "features = [\n",
    "    'Hour', 'Temperature(°C)', 'Humidity(%)', 'Wind speed (m/s)', \n",
    "    'Visibility (10m)', 'Dew point temperature(°C)', \n",
    "    'Solar Radiation (MJ/m2)', 'Rainfall(mm)', 'Snowfall (cm)', \n",
    "    'Seasons', 'Holiday', 'Functioning Day'\n",
    "]\n",
    "X = df[features]\n",
    "y = df['Rented Bike Count']"
   ]
  },
  {
   "cell_type": "code",
   "execution_count": 11,
   "id": "17f39fe7-f642-4cdc-87a8-30ddbd1b2cd2",
   "metadata": {},
   "outputs": [],
   "source": [
    "# Definir modelos con regularización o normalización donde aplique\n",
    "from sklearn.model_selection import cross_val_score\n",
    "from sklearn.linear_model import LinearRegression, Ridge\n",
    "from sklearn.preprocessing import PolynomialFeatures, StandardScaler\n",
    "from sklearn.pipeline import make_pipeline\n",
    "from sklearn.neighbors import KNeighborsRegressor\n",
    "from sklearn.tree import DecisionTreeRegressor\n",
    "\n",
    "models = {\n",
    "    'Linear Regression': LinearRegression(),\n",
    "    'Polynomial Regression (degree=2)': make_pipeline(PolynomialFeatures(degree=2), StandardScaler(), LinearRegression()),\n",
    "    'Ridge Regression': make_pipeline(StandardScaler(), Ridge()),\n",
    "    'KNN Regression': make_pipeline(StandardScaler(), KNeighborsRegressor(n_neighbors=5)),\n",
    "    'Decision Tree Regression': DecisionTreeRegressor()\n",
    "}"
   ]
  },
  {
   "cell_type": "code",
   "execution_count": 13,
   "id": "2e273194-216f-4cbe-ba62-3850b0ca08a9",
   "metadata": {},
   "outputs": [],
   "source": [
    "# Validación cruzada\n",
    "results = {}\n",
    "for name, model in models.items():\n",
    "    r2 = cross_val_score(model, X, y, cv=5, scoring='r2').mean()\n",
    "    results[name] = r2\n",
    "\n",
    "# Encontrar el mejor modelo\n",
    "best_model_name = max(results, key=results.get)\n",
    "best_model = models[best_model_name]\n"
   ]
  },
  {
   "cell_type": "code",
   "execution_count": 14,
   "id": "c01d3c12-fca9-4aa7-9336-3dfd3ce2ffd2",
   "metadata": {},
   "outputs": [
    {
     "name": "stdout",
     "output_type": "stream",
     "text": [
      "Resultados de la Validación Cruzada:\n",
      "Linear Regression: R^2 = -0.4594\n",
      "Polynomial Regression (degree=2): R^2 = -258872063407996648030208.0000\n",
      "Ridge Regression: R^2 = -0.4590\n",
      "KNN Regression: R^2 = 0.2455\n",
      "Decision Tree Regression: R^2 = 0.3144\n",
      "\n",
      "El mejor modelo es: Decision Tree Regression con R^2 = 0.3144\n"
     ]
    }
   ],
   "source": [
    "# Entrenar el mejor modelo en todo el conjunto de datos\n",
    "best_model.fit(X, y)\n",
    "\n",
    "# Mostrar resultados\n",
    "print(\"Resultados de la Validación Cruzada:\")\n",
    "for model_name, score in results.items():\n",
    "    print(f\"{model_name}: R^2 = {score:.4f}\")\n",
    "\n",
    "print(f\"\\nEl mejor modelo es: {best_model_name} con R^2 = {results[best_model_name]:.4f}\")"
   ]
  },
  {
   "cell_type": "markdown",
   "id": "2945b1e1-e9dc-4706-84b3-7c5e6129e650",
   "metadata": {
    "jp-MarkdownHeadingCollapsed": true
   },
   "source": [
    "<h2> Regresion </h2>"
   ]
  },
  {
   "cell_type": "code",
   "execution_count": 18,
   "id": "7a735240-66c2-4e39-870a-323358d996c1",
   "metadata": {},
   "outputs": [],
   "source": [
    "# Separar las características (features) de la variable objetivo (target)\n",
    "# Filtrar los datos para días festivos\n",
    "holiday_df = df[df['Holiday'] == 'Holiday']\n",
    "\n",
    "# Separar las características (features) de la variable objetivo (target)\n",
    "# Eliminar columnas que no se utilizarán\n",
    "X = holiday_df.drop(['Rented Bike Count', 'Date', 'Seasons', 'Holiday', 'Functioning Day'], axis=1)\n",
    "y = holiday_df['Rented Bike Count']\n",
    "\n",
    "# Convertir características categóricas a variables dummy\n",
    "X = pd.get_dummies(X, drop_first=True)"
   ]
  },
  {
   "cell_type": "code",
   "execution_count": 19,
   "id": "ad6eca0c-73b9-413b-92fc-b25b39a037e3",
   "metadata": {},
   "outputs": [],
   "source": [
    "# Dividir los datos en conjuntos de entrenamiento y prueba\n",
    "X_train, X_test, y_train, y_test = train_test_split(X, y, test_size=0.2, random_state=42)"
   ]
  },
  {
   "cell_type": "code",
   "execution_count": 20,
   "id": "6ca3dc0e-63dd-4c9e-98f7-0ddcefbf126a",
   "metadata": {},
   "outputs": [
    {
     "data": {
      "text/html": [
       "<style>#sk-container-id-1 {color: black;background-color: white;}#sk-container-id-1 pre{padding: 0;}#sk-container-id-1 div.sk-toggleable {background-color: white;}#sk-container-id-1 label.sk-toggleable__label {cursor: pointer;display: block;width: 100%;margin-bottom: 0;padding: 0.3em;box-sizing: border-box;text-align: center;}#sk-container-id-1 label.sk-toggleable__label-arrow:before {content: \"▸\";float: left;margin-right: 0.25em;color: #696969;}#sk-container-id-1 label.sk-toggleable__label-arrow:hover:before {color: black;}#sk-container-id-1 div.sk-estimator:hover label.sk-toggleable__label-arrow:before {color: black;}#sk-container-id-1 div.sk-toggleable__content {max-height: 0;max-width: 0;overflow: hidden;text-align: left;background-color: #f0f8ff;}#sk-container-id-1 div.sk-toggleable__content pre {margin: 0.2em;color: black;border-radius: 0.25em;background-color: #f0f8ff;}#sk-container-id-1 input.sk-toggleable__control:checked~div.sk-toggleable__content {max-height: 200px;max-width: 100%;overflow: auto;}#sk-container-id-1 input.sk-toggleable__control:checked~label.sk-toggleable__label-arrow:before {content: \"▾\";}#sk-container-id-1 div.sk-estimator input.sk-toggleable__control:checked~label.sk-toggleable__label {background-color: #d4ebff;}#sk-container-id-1 div.sk-label input.sk-toggleable__control:checked~label.sk-toggleable__label {background-color: #d4ebff;}#sk-container-id-1 input.sk-hidden--visually {border: 0;clip: rect(1px 1px 1px 1px);clip: rect(1px, 1px, 1px, 1px);height: 1px;margin: -1px;overflow: hidden;padding: 0;position: absolute;width: 1px;}#sk-container-id-1 div.sk-estimator {font-family: monospace;background-color: #f0f8ff;border: 1px dotted black;border-radius: 0.25em;box-sizing: border-box;margin-bottom: 0.5em;}#sk-container-id-1 div.sk-estimator:hover {background-color: #d4ebff;}#sk-container-id-1 div.sk-parallel-item::after {content: \"\";width: 100%;border-bottom: 1px solid gray;flex-grow: 1;}#sk-container-id-1 div.sk-label:hover label.sk-toggleable__label {background-color: #d4ebff;}#sk-container-id-1 div.sk-serial::before {content: \"\";position: absolute;border-left: 1px solid gray;box-sizing: border-box;top: 0;bottom: 0;left: 50%;z-index: 0;}#sk-container-id-1 div.sk-serial {display: flex;flex-direction: column;align-items: center;background-color: white;padding-right: 0.2em;padding-left: 0.2em;position: relative;}#sk-container-id-1 div.sk-item {position: relative;z-index: 1;}#sk-container-id-1 div.sk-parallel {display: flex;align-items: stretch;justify-content: center;background-color: white;position: relative;}#sk-container-id-1 div.sk-item::before, #sk-container-id-1 div.sk-parallel-item::before {content: \"\";position: absolute;border-left: 1px solid gray;box-sizing: border-box;top: 0;bottom: 0;left: 50%;z-index: -1;}#sk-container-id-1 div.sk-parallel-item {display: flex;flex-direction: column;z-index: 1;position: relative;background-color: white;}#sk-container-id-1 div.sk-parallel-item:first-child::after {align-self: flex-end;width: 50%;}#sk-container-id-1 div.sk-parallel-item:last-child::after {align-self: flex-start;width: 50%;}#sk-container-id-1 div.sk-parallel-item:only-child::after {width: 0;}#sk-container-id-1 div.sk-dashed-wrapped {border: 1px dashed gray;margin: 0 0.4em 0.5em 0.4em;box-sizing: border-box;padding-bottom: 0.4em;background-color: white;}#sk-container-id-1 div.sk-label label {font-family: monospace;font-weight: bold;display: inline-block;line-height: 1.2em;}#sk-container-id-1 div.sk-label-container {text-align: center;}#sk-container-id-1 div.sk-container {/* jupyter's `normalize.less` sets `[hidden] { display: none; }` but bootstrap.min.css set `[hidden] { display: none !important; }` so we also need the `!important` here to be able to override the default hidden behavior on the sphinx rendered scikit-learn.org. See: https://github.com/scikit-learn/scikit-learn/issues/21755 */display: inline-block !important;position: relative;}#sk-container-id-1 div.sk-text-repr-fallback {display: none;}</style><div id=\"sk-container-id-1\" class=\"sk-top-container\"><div class=\"sk-text-repr-fallback\"><pre>LinearRegression()</pre><b>In a Jupyter environment, please rerun this cell to show the HTML representation or trust the notebook. <br />On GitHub, the HTML representation is unable to render, please try loading this page with nbviewer.org.</b></div><div class=\"sk-container\" hidden><div class=\"sk-item\"><div class=\"sk-estimator sk-toggleable\"><input class=\"sk-toggleable__control sk-hidden--visually\" id=\"sk-estimator-id-1\" type=\"checkbox\" checked><label for=\"sk-estimator-id-1\" class=\"sk-toggleable__label sk-toggleable__label-arrow\">LinearRegression</label><div class=\"sk-toggleable__content\"><pre>LinearRegression()</pre></div></div></div></div></div>"
      ],
      "text/plain": [
       "LinearRegression()"
      ]
     },
     "execution_count": 20,
     "metadata": {},
     "output_type": "execute_result"
    }
   ],
   "source": [
    "# Crear el modelo de regresión lineal\n",
    "model = LinearRegression()\n",
    "\n",
    "# Entrenar el modelo con los datos de entrenamiento\n",
    "model.fit(X_train, y_train)\n"
   ]
  },
  {
   "cell_type": "code",
   "execution_count": 21,
   "id": "dbeff4ae-6a31-467b-a9e3-eac3eddf930c",
   "metadata": {},
   "outputs": [],
   "source": [
    "# Utilizamos el modelo entrenado para hacer predicciones con los datos de prueba.\n",
    "# Hacer predicciones con los datos de prueba\n",
    "y_pred = model.predict(X_test)"
   ]
  },
  {
   "cell_type": "code",
   "execution_count": 22,
   "id": "3c446394-d369-4db1-99dc-b105882c5913",
   "metadata": {},
   "outputs": [
    {
     "name": "stdout",
     "output_type": "stream",
     "text": [
      "Mean Squared Error: 159910.18325067527\n",
      "R² Score: 0.548896884499194\n"
     ]
    }
   ],
   "source": [
    "#Evaluar el Modelo\n",
    "#Evaluamos el rendimiento del modelo calculando el error cuadrático medio (MSE) y el coeficiente de determinación (R²).\n",
    "# Calcular el error cuadrático medio\n",
    "mse = mean_squared_error(y_test, y_pred)\n",
    "print(f\"Mean Squared Error: {mse}\")\n",
    "\n",
    "# Calcular el coeficiente de determinación (R²)\n",
    "r2 = r2_score(y_test, y_pred)\n",
    "print(f\"R² Score: {r2}\")\n"
   ]
  },
  {
   "cell_type": "markdown",
   "id": "eea72022-7351-4caa-ada3-797d26011f1f",
   "metadata": {
    "jp-MarkdownHeadingCollapsed": true
   },
   "source": [
    "<h2> Grafica </h2>"
   ]
  },
  {
   "cell_type": "code",
   "execution_count": 28,
   "id": "8c0d9ec7-3d2e-4416-aeff-808ff59e078e",
   "metadata": {},
   "outputs": [
    {
     "data": {
      "image/png": "[encoded data removed]",
      "text/plain": [
       "<Figure size 640x480 with 1 Axes>"
      ]
     },
     "metadata": {},
     "output_type": "display_data"
    }
   ],
   "source": [
    "# Resultados con un gráfico de dispersión de los valores reales frente a las predicciones\n",
    "plt.scatter(y_test, y_pred)\n",
    "plt.xlabel('Valores Reales')\n",
    "plt.ylabel('Predicciones')\n",
    "plt.title('Valores Reales vs. Predicciones')\n",
    "plt.savefig(\"C:/Users/PC/Documents/GitHub/GitFlow-en-Github/ML003/Practica 2/Practica/GraficaDispersionRealvsPred.png\")\n",
    "plt.show()\n",
    "plt.close()"
   ]
  },
  {
   "cell_type": "markdown",
   "id": "627eca40-d61e-4146-b767-e131994ec0de",
   "metadata": {},
   "source": [
    "<h2> Analisis de resultados </h2>"
   ]
  },
  {
   "cell_type": "markdown",
   "id": "6202f25d-7b75-4340-a026-0a1e37e41c51",
   "metadata": {},
   "source": [
    " <t2>   Error Cuadrático Medio (MSE): Un MSE de 159910.18 indica que, en promedio, \n",
    "las predicciones del modelo tienen un error cuadrático bastante alto. Esto sugiere que las predicciones no son muy precisas.\n",
    "\n",
    "Coeficiente de Determinación (R²): Un R² de 0.55 indica que el modelo explica aproximadamente el 55% de la variabilidad en el conteo de bicicletas rentadas en días festivos.\n",
    "Este valor es aceptable pero muestra que hay margen para mejorar el modelo.   </t2>"
   ]
  },
  {
   "cell_type": "code",
   "execution_count": null,
   "id": "c48f9f77-3bf6-4cc8-ac20-80d0da51e79a",
   "metadata": {},
   "outputs": [],
   "source": []
  }
 ],
 "metadata": {
  "kernelspec": {
   "display_name": "Python 3 (ipykernel)",
   "language": "python",
   "name": "python3"
  },
  "language_info": {
   "codemirror_mode": {
    "name": "ipython",
    "version": 3
   },
   "file_extension": ".py",
   "mimetype": "text/x-python",
   "name": "python",
   "nbconvert_exporter": "python",
   "pygments_lexer": "ipython3",
   "version": "3.11.7"
  }
 },
 "nbformat": 4,
 "nbformat_minor": 5
}
