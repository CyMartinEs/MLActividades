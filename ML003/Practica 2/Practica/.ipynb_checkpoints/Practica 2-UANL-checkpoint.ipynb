{
 "cells": [
  {
   "cell_type": "markdown",
   "id": "610321fe-0c40-456d-9f40-857899faaa30",
   "metadata": {},
   "source": [
    " <center><img src=\"data:image/jpeg;base64,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\" alt=\"LogoUANL\" width=\"800\">  </center>"
   ]
  },
  {
   "cell_type": "markdown",
   "id": "464d3f91-3c46-4732-8dac-176fc6ea6a83",
   "metadata": {},
   "source": [
    "<h1>  <center>  Aprendizaje Automatizado   </center>    <h1> "
   ]
  },
  {
   "cell_type": "markdown",
   "id": "a985dbdd-4df1-4880-a203-d5b6177f45a2",
   "metadata": {},
   "source": [
    "<t1>    <center>    <b> Practica:  </b> Explorar Datos del Estudios de la Eficiencia Energetica  </center>  </t1>"
   ]
  },
  {
   "cell_type": "markdown",
   "id": "c4d0f700-01a4-4f07-874e-329f3a7cedde",
   "metadata": {},
   "source": [
    "<t1>   <center>   \n",
    "   <b>   Nombre  </b>    Cynthia  Selene Martínez Espinoza <b>  Matricula   </b> 1011238                            \n",
    "</center>   </t1>"
   ]
  },
  {
   "cell_type": "markdown",
   "id": "5581e89f-9a43-4556-b021-6a18ce2cf716",
   "metadata": {
    "jp-MarkdownHeadingCollapsed": true
   },
   "source": [
    "<h2> Carga de Datos </h2>"
   ]
  },
  {
   "cell_type": "code",
   "execution_count": 6,
   "id": "6238f39c-34c4-4680-812c-901ea7726edd",
   "metadata": {},
   "outputs": [],
   "source": [
    "#Importar librerias\n",
    "import pandas as pd\n",
    "import numpy as np\n",
    "from sklearn.model_selection import train_test_split\n",
    "from sklearn.preprocessing import StandardScaler\n",
    "from sklearn.linear_model import LinearRegression\n",
    "from sklearn.tree import DecisionTreeRegressor, DecisionTreeClassifier\n",
    "from sklearn.metrics import mean_squared_error, accuracy_score"
   ]
  },
  {
   "cell_type": "code",
   "execution_count": 7,
   "id": "6468b154-2128-4bb1-9816-3cd4b8716abe",
   "metadata": {},
   "outputs": [],
   "source": [
    "# Leer los datos de archivo csv, typed_uanl.csv con el URL\n",
    "url =  \"C:/Users/PC/Documents/003 E2024 Metodos Estadisticos Multivariados/Tareas/DATOS/EficienciaEnergetica.csv\"\n",
    "df = pd.read_csv(url)"
   ]
  },
  {
   "cell_type": "markdown",
   "id": "b9cbc244-595d-4a05-9153-9e1f64e1c26e",
   "metadata": {
    "jp-MarkdownHeadingCollapsed": true
   },
   "source": [
    "<h2> Exploracion de datos </h2>"
   ]
  },
  {
   "cell_type": "code",
   "execution_count": 14,
   "id": "ffc1109f-32c3-4d29-aaaa-b5b8ebfb521d",
   "metadata": {},
   "outputs": [],
   "source": [
    "# Resumen estadístico de los datos\n",
    "summary_stats = df.describe()"
   ]
  },
  {
   "cell_type": "code",
   "execution_count": 16,
   "id": "a3cf592a-53ea-4112-bded-5a9eb2ea384c",
   "metadata": {},
   "outputs": [],
   "source": [
    "# Verificación de valores nulos\n",
    "missing_values = df.isnull().sum()"
   ]
  },
  {
   "cell_type": "code",
   "execution_count": 17,
   "id": "5dddc3fa-16c1-4385-a531-61fcaeba8372",
   "metadata": {},
   "outputs": [
    {
     "data": {
      "text/plain": [
       "(               X1          X2          X3          X4         X5          X6  \\\n",
       " count  768.000000  768.000000  768.000000  768.000000  768.00000  768.000000   \n",
       " mean     0.764167  671.708333  318.500000  176.604167    5.25000    3.500000   \n",
       " std      0.105777   88.086116   43.626481   45.165950    1.75114    1.118763   \n",
       " min      0.620000  514.500000  245.000000  110.250000    3.50000    2.000000   \n",
       " 25%      0.682500  606.375000  294.000000  140.875000    3.50000    2.750000   \n",
       " 50%      0.750000  673.750000  318.500000  183.750000    5.25000    3.500000   \n",
       " 75%      0.830000  741.125000  343.000000  220.500000    7.00000    4.250000   \n",
       " max      0.980000  808.500000  416.500000  220.500000    7.00000    5.000000   \n",
       " \n",
       "                X7         X8          Y1          Y2  \n",
       " count  768.000000  768.00000  768.000000  768.000000  \n",
       " mean     0.234375    2.81250   22.307201   24.587760  \n",
       " std      0.133221    1.55096   10.090196    9.513306  \n",
       " min      0.000000    0.00000    6.010000   10.900000  \n",
       " 25%      0.100000    1.75000   12.992500   15.620000  \n",
       " 50%      0.250000    3.00000   18.950000   22.080000  \n",
       " 75%      0.400000    4.00000   31.667500   33.132500  \n",
       " max      0.400000    5.00000   43.100000   48.030000  ,\n",
       " X1    0\n",
       " X2    0\n",
       " X3    0\n",
       " X4    0\n",
       " X5    0\n",
       " X6    0\n",
       " X7    0\n",
       " X8    0\n",
       " Y1    0\n",
       " Y2    0\n",
       " dtype: int64)"
      ]
     },
     "execution_count": 17,
     "metadata": {},
     "output_type": "execute_result"
    }
   ],
   "source": [
    "summary_stats, missing_values"
   ]
  },
  {
   "cell_type": "code",
   "execution_count": 8,
   "id": "16b3c684-ebd8-497f-9e48-08949dd86ffb",
   "metadata": {},
   "outputs": [],
   "source": [
    "# Separar las variables independientes y dependientes\n",
    "X = df.drop(['Y1', 'Y2'], axis=1)\n",
    "y1 = df['Y1']\n",
    "y2 = df['Y2']"
   ]
  },
  {
   "cell_type": "code",
   "execution_count": 9,
   "id": "614675e5-e812-4839-b815-93afc84d1083",
   "metadata": {},
   "outputs": [],
   "source": [
    "# División de los datos en conjuntos de entrenamiento y prueba\n",
    "X_train, X_test, y1_train, y1_test = train_test_split(X, y1, test_size=0.2, random_state=42)\n",
    "X_train, X_test, y2_train, y2_test = train_test_split(X, y2, test_size=0.2, random_state=42)"
   ]
  },
  {
   "cell_type": "code",
   "execution_count": 10,
   "id": "f98683c8-5252-4be9-893c-0bca740c9583",
   "metadata": {},
   "outputs": [],
   "source": [
    "# Escalado de las variables numéricas\n",
    "scaler = StandardScaler()\n",
    "X_train = scaler.fit_transform(X_train)\n",
    "X_test = scaler.transform(X_test)"
   ]
  },
  {
   "cell_type": "markdown",
   "id": "97ad2b8d-7b07-4b67-af0d-a4cac9838f3a",
   "metadata": {
    "jp-MarkdownHeadingCollapsed": true
   },
   "source": [
    "<h2> Regresion Lineal</h2>"
   ]
  },
  {
   "cell_type": "code",
   "execution_count": 11,
   "id": "77e1d183-17a3-4ec6-9d12-1d389c5bb88d",
   "metadata": {},
   "outputs": [
    {
     "name": "stdout",
     "output_type": "stream",
     "text": [
      "Mean Squared Error for Y1: 9.153187855202763\n",
      "Mean Squared Error for Y2: 9.893427647944073\n"
     ]
    }
   ],
   "source": [
    "# Regresión Lineal para Y1\n",
    "lin_reg_y1 = LinearRegression()\n",
    "lin_reg_y1.fit(X_train, y1_train)\n",
    "y1_pred = lin_reg_y1.predict(X_test)\n",
    "mse_y1 = mean_squared_error(y1_test, y1_pred)\n",
    "print(f\"Mean Squared Error for Y1: {mse_y1}\")\n",
    "\n",
    "# Regresión Lineal para Y2\n",
    "lin_reg_y2 = LinearRegression()\n",
    "lin_reg_y2.fit(X_train, y2_train)\n",
    "y2_pred = lin_reg_y2.predict(X_test)\n",
    "mse_y2 = mean_squared_error(y2_test, y2_pred)\n",
    "print(f\"Mean Squared Error for Y2: {mse_y2}\")"
   ]
  },
  {
   "cell_type": "markdown",
   "id": "407df429-d082-4c33-9979-4ebe49de2588",
   "metadata": {
    "jp-MarkdownHeadingCollapsed": true
   },
   "source": [
    "<h2> Arboles de Decision </h2>"
   ]
  },
  {
   "cell_type": "code",
   "execution_count": 12,
   "id": "9259ef07-bce4-4de5-b90b-299cc1626dd0",
   "metadata": {},
   "outputs": [
    {
     "name": "stdout",
     "output_type": "stream",
     "text": [
      "Mean Squared Error for Y1 using Decision Tree: 0.3880116883116884\n",
      "Mean Squared Error for Y2 using Decision Tree: 4.091383766233765\n"
     ]
    }
   ],
   "source": [
    "# Árbol de Decisión para Y1\n",
    "tree_reg_y1 = DecisionTreeRegressor(random_state=42)\n",
    "tree_reg_y1.fit(X_train, y1_train)\n",
    "y1_tree_pred = tree_reg_y1.predict(X_test)\n",
    "mse_tree_y1 = mean_squared_error(y1_test, y1_tree_pred)\n",
    "print(f\"Mean Squared Error for Y1 using Decision Tree: {mse_tree_y1}\")\n",
    "\n",
    "# Árbol de Decisión para Y2\n",
    "tree_reg_y2 = DecisionTreeRegressor(random_state=42)\n",
    "tree_reg_y2.fit(X_train, y2_train)\n",
    "y2_tree_pred = tree_reg_y2.predict(X_test)\n",
    "mse_tree_y2 = mean_squared_error(y2_test, y2_tree_pred)\n",
    "print(f\"Mean Squared Error for Y2 using Decision Tree: {mse_tree_y2}\")"
   ]
  },
  {
   "cell_type": "markdown",
   "id": "9008f140-e9ac-4a27-8c4f-9d056e51542b",
   "metadata": {
    "jp-MarkdownHeadingCollapsed": true
   },
   "source": [
    "<h2> Clasificacion </h2>"
   ]
  },
  {
   "cell_type": "code",
   "execution_count": 13,
   "id": "047d523e-034e-4a1e-817f-101abae4bf13",
   "metadata": {},
   "outputs": [
    {
     "name": "stdout",
     "output_type": "stream",
     "text": [
      "Accuracy for Y1 Classification using Decision Tree: 0.987012987012987\n"
     ]
    }
   ],
   "source": [
    "# Crear una variable de clasificación\n",
    "y1_class = (y1 > y1.median()).astype(int)\n",
    "X_train_class, X_test_class, y1_train_class, y1_test_class = train_test_split(X, y1_class, test_size=0.2, random_state=42)\n",
    "\n",
    "# Árbol de Decisión para Clasificación\n",
    "tree_clf = DecisionTreeClassifier(random_state=42)\n",
    "tree_clf.fit(X_train_class, y1_train_class)\n",
    "y1_class_pred = tree_clf.predict(X_test_class)\n",
    "accuracy = accuracy_score(y1_test_class, y1_class_pred)\n",
    "print(f\"Accuracy for Y1 Classification using Decision Tree: {accuracy}\")"
   ]
  },
  {
   "cell_type": "code",
   "execution_count": null,
   "id": "a06e4c13-ab6a-4e99-9234-b17f4b72e11e",
   "metadata": {},
   "outputs": [],
   "source": []
  }
 ],
 "metadata": {
  "kernelspec": {
   "display_name": "Python 3 (ipykernel)",
   "language": "python",
   "name": "python3"
  },
  "language_info": {
   "codemirror_mode": {
    "name": "ipython",
    "version": 3
   },
   "file_extension": ".py",
   "mimetype": "text/x-python",
   "name": "python",
   "nbconvert_exporter": "python",
   "pygments_lexer": "ipython3",
   "version": "3.11.7"
  }
 },
 "nbformat": 4,
 "nbformat_minor": 5
}
